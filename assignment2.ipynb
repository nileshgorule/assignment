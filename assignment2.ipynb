{
 "cells": [
  {
   "cell_type": "markdown",
   "id": "d7cd1cab",
   "metadata": {},
   "source": [
    "# Lists"
   ]
  },
  {
   "cell_type": "code",
   "execution_count": null,
   "id": "0897bbb8",
   "metadata": {},
   "outputs": [],
   "source": []
  },
  {
   "cell_type": "code",
   "execution_count": 26,
   "id": "41ffee69",
   "metadata": {},
   "outputs": [
    {
     "name": "stdout",
     "output_type": "stream",
     "text": [
      "creating empty list []\n"
     ]
    }
   ],
   "source": [
    "#1.Create an empty list.\n",
    "\n",
    "list = []\n",
    "print(\"creating empty list\",list)"
   ]
  },
  {
   "cell_type": "code",
   "execution_count": 9,
   "id": "78161097",
   "metadata": {},
   "outputs": [
    {
     "name": "stdout",
     "output_type": "stream",
     "text": [
      "['Apple', 'banana', 'cherry', 'blue berry']\n",
      "['Apple', 'banana', 'cherry', 'blue berry', 'rasberry']\n"
     ]
    }
   ],
   "source": [
    "#2.Add an element to a list.\n",
    "\n",
    "fruits = [\"Apple\",\"banana\",\"cherry\",\"blue berry\"]\n",
    "print(fruits)\n",
    "fruits.append(\"rasberry\")\n",
    "print(fruits)\n",
    "\n"
   ]
  },
  {
   "cell_type": "code",
   "execution_count": 10,
   "id": "1543a875",
   "metadata": {},
   "outputs": [
    {
     "name": "stdout",
     "output_type": "stream",
     "text": [
      "['Apple', 'banana', 'cherry', 'blue berry']\n",
      "['Apple', 'cherry', 'blue berry']\n"
     ]
    }
   ],
   "source": [
    "#3.Remove an element from a list.\n",
    "\n",
    "fruits = [\"Apple\",\"banana\",\"cherry\",\"blue berry\"]\n",
    "print(fruits)\n",
    "fruits.remove(\"banana\")\n",
    "print(fruits)"
   ]
  },
  {
   "cell_type": "code",
   "execution_count": 13,
   "id": "be52310e",
   "metadata": {},
   "outputs": [
    {
     "name": "stdout",
     "output_type": "stream",
     "text": [
      "blue berry\n"
     ]
    }
   ],
   "source": [
    "#4.Access an element at a specific index in a list.\n",
    "\n",
    "fruits = [\"Apple\",\"banana\",\"cherry\",\"blue berry\"]\n",
    "print(fruits[3])\n",
    "\n"
   ]
  },
  {
   "cell_type": "code",
   "execution_count": 16,
   "id": "5ad18fd5",
   "metadata": {},
   "outputs": [
    {
     "name": "stdout",
     "output_type": "stream",
     "text": [
      "length of the list : 4\n"
     ]
    }
   ],
   "source": [
    "#5.Find the length of a list.\n",
    "fruits = [\"Apple\",\"banana\",\"cherry\",\"blue berry\"]\n",
    "print(\"length of the list :\",len(fruits))\n",
    "\n"
   ]
  },
  {
   "cell_type": "code",
   "execution_count": 20,
   "id": "476dc13f",
   "metadata": {},
   "outputs": [
    {
     "name": "stdout",
     "output_type": "stream",
     "text": [
      "cherry is exist in ['Apple', 'banana', 'cherry', 'blue berry']\n"
     ]
    }
   ],
   "source": [
    "#6.Check if an element exists in a list.\n",
    "\n",
    "fruits = [\"Apple\",\"banana\",\"cherry\",\"blue berry\"]\n",
    "i = \"cherry\"\n",
    "if i in fruits:\n",
    "    print(i,\"is exist in\",fruits)\n",
    "else:\n",
    "    print(\"not exist\")\n"
   ]
  },
  {
   "cell_type": "code",
   "execution_count": 24,
   "id": "7637490f",
   "metadata": {
    "scrolled": true
   },
   "outputs": [
    {
     "name": "stdout",
     "output_type": "stream",
     "text": [
      "fruit_list 1 = ['Apple', 'banana', 'cherry', 'blue berry']\n",
      "fruit_list 2 = ['pinepple', 'rasberry', 'mango', 'orange']\n",
      "concatenated list = ['Apple', 'banana', 'cherry', 'blue berry', 'pinepple', 'rasberry', 'mango', 'orange']\n"
     ]
    }
   ],
   "source": [
    "#7.Concatenate two lists.\n",
    "\n",
    "fruit_list1 = [\"Apple\",\"banana\",\"cherry\",\"blue berry\"]\n",
    "fruit_list2 = [\"pinepple\",\"rasberry\",\"mango\",\"orange\"]\n",
    "fruit_list3 =fruit_list1+fruit_list2\n",
    "print(\"fruit_list 1 =\",fruit_list1)\n",
    "print(\"fruit_list 2 =\",fruit_list2)\n",
    "print(\"concatenated list =\",fruit_list3)"
   ]
  },
  {
   "cell_type": "code",
   "execution_count": 29,
   "id": "6ad92ed9",
   "metadata": {},
   "outputs": [
    {
     "name": "stdout",
     "output_type": "stream",
     "text": [
      "Maximum value from the list is: 87\n",
      "Minimum value from the list is: 3\n"
     ]
    }
   ],
   "source": [
    "#8.Find the maximum and minimum elements in a list.\n",
    "\n",
    "num = [3,5,55,23,87,34]\n",
    "print(\"Maximum value from the list is:\",max(num))\n",
    "print(\"Minimum value from the list is:\",min(num))"
   ]
  },
  {
   "cell_type": "code",
   "execution_count": 35,
   "id": "eab91a9f",
   "metadata": {},
   "outputs": [
    {
     "name": "stdout",
     "output_type": "stream",
     "text": [
      "cherry is present 2 times in list ['Apple', 'banana', 'cherry', 'blue berry', 'cherry']\n"
     ]
    }
   ],
   "source": [
    "#9.Count the occurrences of a specific element in a list.\n",
    "\n",
    "fruit_list = [\"Apple\",\"banana\",\"cherry\",\"blue berry\",\"cherry\"]\n",
    "res = fruit_list.count(\"cherry\")\n",
    "print(\"cherry is present\",res,\"times in list\",fruit_list)"
   ]
  },
  {
   "cell_type": "code",
   "execution_count": 38,
   "id": "4f7747c7",
   "metadata": {},
   "outputs": [
    {
     "name": "stdout",
     "output_type": "stream",
     "text": [
      "original list [3, 5, 55, 23, 87, 34]\n",
      "reversed list [34, 87, 23, 55, 5, 3]\n"
     ]
    }
   ],
   "source": [
    "#10.Reverse a list.\n",
    "\n",
    "num = [3,5,55,23,87,34]\n",
    "print(\"original list\",num)\n",
    "num.reverse()\n",
    "print(\"reversed list\",num)\n"
   ]
  },
  {
   "cell_type": "code",
   "execution_count": 39,
   "id": "d88613a4",
   "metadata": {},
   "outputs": [
    {
     "name": "stdout",
     "output_type": "stream",
     "text": [
      "original list [3, 5, 55, 23, 87, 34]\n",
      "sorted list [3, 5, 23, 34, 55, 87]\n"
     ]
    }
   ],
   "source": [
    "#11.Sort a list in ascending order.\n",
    "\n",
    "num = [3,5,55,23,87,34]\n",
    "print(\"original list\",num)\n",
    "num.sort()\n",
    "print(\"sorted list\",num)\n",
    "\n"
   ]
  },
  {
   "cell_type": "code",
   "execution_count": 72,
   "id": "29ada3ff",
   "metadata": {},
   "outputs": [
    {
     "name": "stdout",
     "output_type": "stream",
     "text": [
      " from list= [2, 3, 4, 2, 4, 3, 6, 3, 2] \n",
      " after removing duplicate = [2, 3, 4, 6]\n"
     ]
    }
   ],
   "source": [
    "#12.Remove duplicates from a list.\n",
    "\n",
    "num = [2,3,4,2,4,3,6,3,2]\n",
    "res = []\n",
    "for i in num:\n",
    "    if i not in res:\n",
    "        res.append(i)\n",
    "        \n",
    "print(\" from list=\",num,\"\\n\",\"after removing duplicate =\",res)"
   ]
  },
  {
   "cell_type": "code",
   "execution_count": 110,
   "id": "504c765b",
   "metadata": {},
   "outputs": [
    {
     "name": "stdout",
     "output_type": "stream",
     "text": [
      "[1, 3, 5, 7, 9]\n"
     ]
    }
   ],
   "source": [
    "#13.Extract odd-indexed elements from a list.\n",
    "\n",
    "num = [1,2,3,4,5,6,7,8,9]\n",
    "newlist =[]\n",
    "for i in num:\n",
    "        if i%2!=0:\n",
    "            newlist.append(i)\n",
    "print(newlist)\n"
   ]
  },
  {
   "cell_type": "code",
   "execution_count": 118,
   "id": "d91500a7",
   "metadata": {},
   "outputs": [
    {
     "name": "stdout",
     "output_type": "stream",
     "text": [
      "[1, 4, 9, 16, 25]\n"
     ]
    }
   ],
   "source": [
    "#14 .Multiply all elements in a list by a specific factor.\n",
    "\n",
    "num = [1,2,3,4,5]\n",
    "newlist = [i**2 for i in num]\n",
    "print(newlist)\n"
   ]
  },
  {
   "cell_type": "code",
   "execution_count": 56,
   "id": "fc76824d",
   "metadata": {},
   "outputs": [
    {
     "name": "stdout",
     "output_type": "stream",
     "text": [
      "printing unique values from list and presenting \n",
      " new list [10, 30, 20, 40, 50, 60]\n"
     ]
    }
   ],
   "source": [
    "#15.Create a new list containing only unique elements from an existing list.\n",
    "num = [10,30,20,10,30,20,40,50,60,20]\n",
    "res = []\n",
    "for i in num:\n",
    "    if i not in res:\n",
    "        res.append(i)\n",
    "print(\"printing unique values from list and presenting\",\"\\n\",\"new list\",res)\n",
    "\n",
    "\n"
   ]
  },
  {
   "cell_type": "markdown",
   "id": "cf1a54ea",
   "metadata": {},
   "source": [
    "# tuples"
   ]
  },
  {
   "cell_type": "code",
   "execution_count": 58,
   "id": "7dbd4395",
   "metadata": {},
   "outputs": [
    {
     "name": "stdout",
     "output_type": "stream",
     "text": [
      "(1, 2, 3)\n"
     ]
    }
   ],
   "source": [
    "#16.Create a tuple with three elements.\n",
    "\n",
    "a = (1,2,3)\n",
    "print(a)"
   ]
  },
  {
   "cell_type": "code",
   "execution_count": 67,
   "id": "26fa234f",
   "metadata": {},
   "outputs": [
    {
     "name": "stdout",
     "output_type": "stream",
     "text": [
      "2\n"
     ]
    }
   ],
   "source": [
    "#17.Access an element from a tuple.\n",
    "a = (1,2,3)\n",
    "print(a[1])\n"
   ]
  },
  {
   "cell_type": "code",
   "execution_count": 69,
   "id": "596e25c6",
   "metadata": {},
   "outputs": [
    {
     "name": "stdout",
     "output_type": "stream",
     "text": [
      "2 is exist in tuple (1, 2, 3)\n"
     ]
    }
   ],
   "source": [
    "#18.Check if an element exists in a tuple.\n",
    "a = (1,2,3)\n",
    "i = 2\n",
    "if i in a:\n",
    "    print(i,\"is exist in tuple\",a)\n",
    "else:\n",
    "    print(\"not exist\")\n"
   ]
  },
  {
   "cell_type": "code",
   "execution_count": 7,
   "id": "87fca32a",
   "metadata": {},
   "outputs": [
    {
     "name": "stdout",
     "output_type": "stream",
     "text": [
      "(1, 2, 3) this is <class 'tuple'>\n",
      "[1, 2, 3] this is <class 'list'>\n"
     ]
    }
   ],
   "source": [
    "#19.Convert a tuple to a list.\n",
    "\n",
    "my_tuple = (1,2,3)\n",
    "print(my_tuple,\"this is\",type(my_tuple))\n",
    "my_list=[i for i in my_tuple]\n",
    "print(my_list,\"this is\",type(my_list))\n",
    "\n",
    "\n"
   ]
  },
  {
   "cell_type": "code",
   "execution_count": 85,
   "id": "e48b7b8e",
   "metadata": {},
   "outputs": [
    {
     "name": "stdout",
     "output_type": "stream",
     "text": [
      "(1, 2, 3, 4, 5, 6)\n"
     ]
    }
   ],
   "source": [
    "#20.Concatenate two tuples.\n",
    "a =(1,2,3)\n",
    "b =(4,5,6)\n",
    "c = a+b\n",
    "print(c)"
   ]
  },
  {
   "cell_type": "code",
   "execution_count": 89,
   "id": "207b2f24",
   "metadata": {},
   "outputs": [
    {
     "name": "stdout",
     "output_type": "stream",
     "text": [
      "index value of 6 is 5\n"
     ]
    }
   ],
   "source": [
    "#21.Find the index of a specific element in a tuple.\n",
    "\n",
    "a =(1,2,3,4,5,6,7,8)\n",
    "index = a.index(6)\n",
    "print(\"index value of 6 is\",index)\n"
   ]
  },
  {
   "cell_type": "code",
   "execution_count": 94,
   "id": "cc1c98db",
   "metadata": {},
   "outputs": [
    {
     "name": "stdout",
     "output_type": "stream",
     "text": [
      "('Apple', 'orange', 'mango')\n",
      " after upacking = Apple orange mango\n"
     ]
    }
   ],
   "source": [
    "#22.Unpack the elements of a tuple into separate variables.\n",
    "\n",
    "fruits = (\"Apple\",\"orange\",\"mango\")\n",
    "print(fruits)\n",
    "(a,b,c) = fruits\n",
    "print(\" after upacking =\",a,b,c)\n"
   ]
  },
  {
   "cell_type": "code",
   "execution_count": 9,
   "id": "7a7c3afb",
   "metadata": {},
   "outputs": [
    {
     "name": "stdout",
     "output_type": "stream",
     "text": [
      "['Apple', 'Banana', 'Cherry']\n",
      "('Apple', 'Banana', 'Cherry')\n"
     ]
    }
   ],
   "source": [
    "#23.Convert a list into a tuple.\n",
    "\n",
    "a = [\"Apple\",\"Banana\",\"Cherry\"]\n",
    "print(a)\n",
    "b = tuple(a)\n",
    "print(b)"
   ]
  },
  {
   "cell_type": "code",
   "execution_count": 13,
   "id": "079e02e7",
   "metadata": {},
   "outputs": [
    {
     "name": "stdout",
     "output_type": "stream",
     "text": [
      "creating nested tuple: (1, 2, 3, (4, 5, 6))\n"
     ]
    }
   ],
   "source": [
    "#24.Create a nested tuple.\n",
    "\n",
    "a = (1,2,3,(4,5,6))\n",
    "print(\"creating nested tuple:\",a)\n"
   ]
  },
  {
   "cell_type": "code",
   "execution_count": 17,
   "id": "08a6fc54",
   "metadata": {},
   "outputs": [
    {
     "name": "stdout",
     "output_type": "stream",
     "text": [
      "Before swapping: a = (10, 20, 30) b = (60, 40, 50)\n",
      "After swapping: a = (60, 40, 50) b = (10, 20, 30)\n"
     ]
    }
   ],
   "source": [
    "#25.Swap the values of two variables using tuples.\n",
    "\n",
    "a = (10,20,30)\n",
    "b = (60,40,50)\n",
    "print(\"Before swapping: a =\", a, \"b =\", b)\n",
    "a, b = b, a\n",
    "print(\"After swapping: a =\", a, \"b =\", b)\n"
   ]
  },
  {
   "cell_type": "markdown",
   "id": "282fe5c7",
   "metadata": {},
   "source": [
    "# dictionary "
   ]
  },
  {
   "cell_type": "code",
   "execution_count": 6,
   "id": "28595dcc",
   "metadata": {},
   "outputs": [
    {
     "name": "stdout",
     "output_type": "stream",
     "text": [
      "printing empty dictionary--> {}\n",
      "<class 'dict'>\n"
     ]
    }
   ],
   "source": [
    "#26 Create an empty dictionary.\n",
    "\n",
    "dict = {}\n",
    "print(\"printing empty dictionary-->\",dict)\n",
    "print(type(dict))"
   ]
  },
  {
   "cell_type": "code",
   "execution_count": 7,
   "id": "b7100d3f",
   "metadata": {},
   "outputs": [
    {
     "name": "stdout",
     "output_type": "stream",
     "text": [
      "adding key-value pairs in the dictionary: {'a': 1, 'b': 2, 'c': 3, 'd': 4}\n"
     ]
    }
   ],
   "source": [
    "#27.Add a key-value pair to a dictionary.\n",
    "\n",
    "dict = {\"a\":1,\"b\":2,\"c\":3,\"d\":4}\n",
    "print(\"adding key-value pairs in the dictionary:\",dict)"
   ]
  },
  {
   "cell_type": "code",
   "execution_count": 19,
   "id": "4638f04b",
   "metadata": {},
   "outputs": [
    {
     "name": "stdout",
     "output_type": "stream",
     "text": [
      "{'a': 1, 'b': 2, 'c': 3, 'd': 4}\n",
      "[('a', 1), ('b', 2), ('c', 3), ('d', 4)]\n"
     ]
    }
   ],
   "source": [
    "#28.Access the value associated with a specific key.\n",
    "\n",
    "dict = {\"a\":1,\"b\":2,\"c\":3,\"d\":4}\n",
    "print(dict)\n",
    "print([(i,dict[i]) for i in dict])"
   ]
  },
  {
   "cell_type": "code",
   "execution_count": 26,
   "id": "6dc57430",
   "metadata": {},
   "outputs": [
    {
     "name": "stdout",
     "output_type": "stream",
     "text": [
      "c key exist {'a': 1, 'b': 2, 'c': 3, 'd': 4}\n"
     ]
    }
   ],
   "source": [
    "#29.\tCheck if a key exists in a dictionary.\n",
    "\n",
    "dictionary = {\"a\":1,\"b\":2,\"c\":3,\"d\":4}\n",
    "i = \"c\"\n",
    "if i in dictionary:\n",
    "    print(i,\"key exist\",dictionary)\n",
    "else:\n",
    "    print(\"not exist\")\n",
    "\n"
   ]
  },
  {
   "cell_type": "code",
   "execution_count": 28,
   "id": "4ee3960f",
   "metadata": {},
   "outputs": [
    {
     "name": "stdout",
     "output_type": "stream",
     "text": [
      "before removing key value pair from dictionary {'aman': 23, 'ram': 54, 'raja': 45, 'neeta': 30}\n",
      "after removing key value pair from dictionary {'aman': 23, 'ram': 54, 'neeta': 30}\n"
     ]
    }
   ],
   "source": [
    "#30.\tRemove a key-value pair from a dictionary.\n",
    "\n",
    "dict = {\"aman\":23,\"ram\":54,\"raja\":45,\"neeta\":30}\n",
    "print(\"before removing key value pair from dictionary\",dict)\n",
    "res = dict.pop(\"raja\")\n",
    "print(\"after removing key value pair from dictionary\",dict)\n"
   ]
  },
  {
   "cell_type": "code",
   "execution_count": 29,
   "id": "5358f45b",
   "metadata": {},
   "outputs": [
    {
     "name": "stdout",
     "output_type": "stream",
     "text": [
      "{'aman': 23, 'ram': 54, 'raja': 45, 'neeta': 30}\n",
      "dict_keys(['aman', 'ram', 'raja', 'neeta'])\n"
     ]
    }
   ],
   "source": [
    "#31.\tGet all keys from a dictionary.\n",
    "\n",
    "dict = {\"aman\":23,\"ram\":54,\"raja\":45,\"neeta\":30}\n",
    "print(dict)\n",
    "print(dict.keys())\n"
   ]
  },
  {
   "cell_type": "code",
   "execution_count": 31,
   "id": "2c22368a",
   "metadata": {},
   "outputs": [
    {
     "name": "stdout",
     "output_type": "stream",
     "text": [
      "{'aman': 23, 'ram': 54, 'raja': 45, 'neeta': 30}\n",
      "dict_values([23, 54, 45, 30])\n"
     ]
    }
   ],
   "source": [
    "#32.\tGet all values from a dictionary.\n",
    "\n",
    "dict = {\"aman\":23,\"ram\":54,\"raja\":45,\"neeta\":30}\n",
    "print(dict)\n",
    "print(dict.values())\n"
   ]
  },
  {
   "cell_type": "code",
   "execution_count": 35,
   "id": "4940f149",
   "metadata": {},
   "outputs": [
    {
     "name": "stdout",
     "output_type": "stream",
     "text": [
      "List Of states:\n",
      "\n",
      "Gujarat\n",
      "Maharashtra\n",
      "Rajasthan\n",
      "Bihar\n"
     ]
    }
   ],
   "source": [
    "#33.\tIterate through the keys in a dictionary.\n",
    "\n",
    "\n",
    "famous_food = {'Gujarat': 'dhokla',\n",
    "               'Maharashtra': 'vadapav',\n",
    "               'Rajasthan': 'daal bhati churma',\n",
    "               'Bihar': 'chat masala'\n",
    "}\n",
    " \n",
    "print('List Of states:\\n')\n",
    "for state in famous_food :\n",
    "    print(state)"
   ]
  },
  {
   "cell_type": "code",
   "execution_count": 38,
   "id": "c7b3f6ec",
   "metadata": {},
   "outputs": [
    {
     "name": "stdout",
     "output_type": "stream",
     "text": [
      "List Of famous_food:\n",
      "\n",
      "dhokla\n",
      "vadapav\n",
      "daal bhati churma\n",
      "chat masala\n"
     ]
    }
   ],
   "source": [
    "#34.\tIterate through the values in a dictionary.\n",
    "\n",
    "\n",
    "famous_food = {'Gujarat': 'dhokla',\n",
    "               'Maharashtra': 'vadapav',\n",
    "               'Rajasthan': 'daal bhati churma',\n",
    "               'Bihar': 'chat masala'\n",
    "}\n",
    " \n",
    "print('List Of famous_food:\\n')\n",
    "for food in famous_food.values():\n",
    "    print(food)"
   ]
  },
  {
   "cell_type": "code",
   "execution_count": 51,
   "id": "ac225cb6",
   "metadata": {},
   "outputs": [
    {
     "name": "stdout",
     "output_type": "stream",
     "text": [
      "4 value exist in {'a': 1, 'b': 2, 'c': 3, 'd': 4}\n",
      "not exist\n"
     ]
    }
   ],
   "source": [
    "#35.\tCheck if a value exists in a dictionary's values.\n",
    "\n",
    "dictionary = {\"a\":1,\"b\":2,\"c\":3,\"d\":4}\n",
    "dictionary_values = dictionary.values()\n",
    "if 4 in dictionary_values:\n",
    "    print(4,\"value exist in\",dictionary)\n",
    "else:\n",
    "    print(\"not exist\")\n",
    "    \n",
    "    \n",
    "dictionary = {\"a\":1,\"b\":2,\"c\":3,\"d\":4}\n",
    "dictionary_values = dictionary.values()\n",
    "if 5 in dictionary_values:\n",
    "    print(5,\"value exist in\",dictionary)\n",
    "else:\n",
    "    print(\"not exist\")"
   ]
  },
  {
   "cell_type": "code",
   "execution_count": 53,
   "id": "836b32e5",
   "metadata": {},
   "outputs": [
    {
     "name": "stdout",
     "output_type": "stream",
     "text": [
      "merging two dictinaries: {'banana': 40, 'apple': 20, 'orange': 50, 'a': 2, 'b': 3, 'c': 5}\n"
     ]
    }
   ],
   "source": [
    "#36.\tMerge two dictionaries.\n",
    "\n",
    "dict1={\"banana\":40,\"apple\":20,\"orange\":50}\n",
    "dict2={\"a\":2,\"b\":3,\"c\":5}\n",
    "merge = dict1|dict2\n",
    "print(\"merging two dictinaries:\",merge)\n"
   ]
  },
  {
   "cell_type": "code",
   "execution_count": 55,
   "id": "538c7aeb",
   "metadata": {},
   "outputs": [
    {
     "name": "stdout",
     "output_type": "stream",
     "text": [
      "dictioanary is clear {}\n"
     ]
    }
   ],
   "source": [
    "#37.\tClear all elements from a dictionary.\n",
    "\n",
    "car = {\"brand\": \"Ford\",\"model\": \"Mustang\",\"year\": 1964}\n",
    "car.clear()\n",
    "print(\"dictioanary is clear\",car)"
   ]
  },
  {
   "cell_type": "code",
   "execution_count": 56,
   "id": "4f911ead",
   "metadata": {},
   "outputs": [
    {
     "name": "stdout",
     "output_type": "stream",
     "text": [
      "length of the dictionary is: 3\n"
     ]
    }
   ],
   "source": [
    "#38.\tGet the length of a dictionary.\n",
    "\n",
    "car = {\"brand\": \"Ford\",\"model\": \"Mustang\",\"year\": 1964}\n",
    "print(\"length of the dictionary is:\",len(car))"
   ]
  },
  {
   "cell_type": "code",
   "execution_count": 62,
   "id": "ce5a045a",
   "metadata": {},
   "outputs": [
    {
     "name": "stdout",
     "output_type": "stream",
     "text": [
      "{1: 1, 2: 4, 3: 9, 4: 16, 5: 25, 6: 36, 7: 49, 8: 64, 9: 81, 10: 100}\n"
     ]
    }
   ],
   "source": [
    "#39.\tCreate a dictionary with keys as numbers and values as their squares.\n",
    "\n",
    "dictionary = {}\n",
    "for i in range(1,11):\n",
    "    dictionary[i]=i**2\n",
    "print(dictionary)\n",
    "\n"
   ]
  },
  {
   "cell_type": "markdown",
   "id": "fe8862d6",
   "metadata": {},
   "source": [
    "# sets"
   ]
  },
  {
   "cell_type": "code",
   "execution_count": null,
   "id": "d6d27e26",
   "metadata": {},
   "outputs": [],
   "source": [
    "#40.\tCreate an empty set."
   ]
  },
  {
   "cell_type": "code",
   "execution_count": 64,
   "id": "5a45c173",
   "metadata": {},
   "outputs": [
    {
     "name": "stdout",
     "output_type": "stream",
     "text": [
      "set()\n",
      "<class 'set'>\n"
     ]
    }
   ],
   "source": [
    "my_set = set()\n",
    "print(my_set)\n",
    "print(type(my_set))"
   ]
  },
  {
   "cell_type": "code",
   "execution_count": 71,
   "id": "28d9480e",
   "metadata": {},
   "outputs": [
    {
     "name": "stdout",
     "output_type": "stream",
     "text": [
      "set()\n",
      "after adding element: {'apple', 'orange'}\n"
     ]
    }
   ],
   "source": [
    "#41.\tAdd an element to a set.\n",
    "\n",
    "my_set = set()\n",
    "print(my_set)\n",
    "my_set.add(\"orange\")\n",
    "my_set.add(\"apple\")\n",
    "print(\"after adding element:\",my_set)\n",
    "\n",
    "\n"
   ]
  },
  {
   "cell_type": "code",
   "execution_count": 77,
   "id": "1dba4870",
   "metadata": {},
   "outputs": [
    {
     "name": "stdout",
     "output_type": "stream",
     "text": [
      "original set: {'hcl', 'samsung', 'hp'}\n",
      "after removing the element from set {'hcl', 'hp'}\n"
     ]
    }
   ],
   "source": [
    "#42.\tRemove an element from a set.\n",
    "\n",
    "my_set = {\"samsung\",\"hp\",\"hcl\"}\n",
    "print(\"original set:\",my_set)\n",
    "my_set.remove(\"samsung\")\n",
    "print(\"after removing the element from set\",my_set)\n"
   ]
  },
  {
   "cell_type": "code",
   "execution_count": 79,
   "id": "c6bd47d3",
   "metadata": {},
   "outputs": [
    {
     "name": "stdout",
     "output_type": "stream",
     "text": [
      "{'mahindra', 'tata', 'hcl', 'samsung', 'boat', 'hp'}\n",
      "samsung present in set: True\n",
      "iphone present in set: False\n"
     ]
    }
   ],
   "source": [
    "#43.\tCheck if an element exists in a set.\n",
    "\n",
    "my_set = {\"samsung\",\"hp\",\"hcl\",\"boat\",\"mahindra\",\"tata\"}\n",
    "print(my_set)\n",
    "print(\"samsung present in set:\",\"samsung\" in my_set)\n",
    "print(\"iphone present in set:\",\"iphone\" in my_set)\n"
   ]
  },
  {
   "cell_type": "code",
   "execution_count": 81,
   "id": "a8c3305c",
   "metadata": {},
   "outputs": [
    {
     "name": "stdout",
     "output_type": "stream",
     "text": [
      "{'orange', 'apple'}\n"
     ]
    }
   ],
   "source": [
    "#44.\tFind the intersection of two sets.\n",
    "\n",
    "set1 = {\"apple\",\"banana\",\"orange\",\"pineapple\"}\n",
    "set2 = {\"cherry\",\"orange\",\"mango\",\"apple\"}\n",
    "print(set1.intersection(set2))"
   ]
  },
  {
   "cell_type": "code",
   "execution_count": 84,
   "id": "d94fca3a",
   "metadata": {},
   "outputs": [
    {
     "name": "stdout",
     "output_type": "stream",
     "text": [
      "{1, 2, 3, 4, 5, 10, 20}\n"
     ]
    }
   ],
   "source": [
    "#45.\tFind the union of two sets.\n",
    "\n",
    "set1 = {1,3,4,20,10}\n",
    "set2 = {1,2,3,4,5,}\n",
    "print(set1.union(set2))"
   ]
  },
  {
   "cell_type": "code",
   "execution_count": 87,
   "id": "00ae4d90",
   "metadata": {},
   "outputs": [
    {
     "name": "stdout",
     "output_type": "stream",
     "text": [
      "{10, 20}\n",
      "{2, 5}\n"
     ]
    }
   ],
   "source": [
    "#46.\tFind the difference between two sets.\n",
    "\n",
    "set1 = {1,3,4,20,10}\n",
    "set2 = {1,2,3,4,5,}\n",
    "print(set1.difference(set2))\n",
    "print(set2.difference(set1))\n"
   ]
  },
  {
   "cell_type": "code",
   "execution_count": 98,
   "id": "86b9f995",
   "metadata": {},
   "outputs": [
    {
     "name": "stdout",
     "output_type": "stream",
     "text": [
      "{1, 2, 3, 20, 10, 30}\n",
      "{1, 2, 3}\n",
      "Check if set2 is a subset of set1: True\n"
     ]
    }
   ],
   "source": [
    "#47.\tCheck if one set is a subset of another.\n",
    "\n",
    "set1 = {1,2,3,10,20,30}\n",
    "set2 = {1,2,3}\n",
    "print(set1)\n",
    "print(set2)\n",
    "print(\"Check if set2 is a subset of set1:\",set2.issubset(set1))\n"
   ]
  },
  {
   "cell_type": "code",
   "execution_count": 103,
   "id": "eac72996",
   "metadata": {},
   "outputs": [
    {
     "name": "stdout",
     "output_type": "stream",
     "text": [
      "MY SET {1, 2, 3, 20, 10, 30}\n",
      "after removing  all element: set()\n"
     ]
    }
   ],
   "source": [
    "#48.\tRemove all elements from a set.\n",
    "my_set = {1,2,3,10,20,30}\n",
    "print(\"MY SET\",my_set)\n",
    "my_set.clear()\n",
    "print(\"after removing  all element:\",my_set)"
   ]
  },
  {
   "cell_type": "code",
   "execution_count": 104,
   "id": "d2474ba8",
   "metadata": {},
   "outputs": [
    {
     "name": "stdout",
     "output_type": "stream",
     "text": [
      "[1, 2, 3, 4, 5, 6]\n",
      "<class 'list'>\n",
      "{1, 2, 3, 4, 5, 6}\n",
      "<class 'set'>\n"
     ]
    }
   ],
   "source": [
    "#49.\tConvert a list to a set.\n",
    "\n",
    "a=[1,2,3,4,5,6]\n",
    "print(a)\n",
    "print(type(a))\n",
    "b=set(a)\n",
    "print(b)\n",
    "print(type(b))"
   ]
  },
  {
   "cell_type": "code",
   "execution_count": 106,
   "id": "22df0e01",
   "metadata": {},
   "outputs": [
    {
     "name": "stdout",
     "output_type": "stream",
     "text": [
      "{1, 2, 3, 4, 5, 6}\n",
      "<class 'set'>\n",
      "[1, 2, 3, 4, 5, 6]\n",
      "<class 'list'>\n"
     ]
    }
   ],
   "source": [
    "#50.\tConvert a set to a list.\n",
    "\n",
    "a={1,2,3,4,5,6}\n",
    "print(a)\n",
    "print(type(a))\n",
    "b=list(a)\n",
    "print(b)\n",
    "print(type(b))\n"
   ]
  },
  {
   "cell_type": "code",
   "execution_count": 125,
   "id": "7282d75c",
   "metadata": {},
   "outputs": [
    {
     "name": "stdout",
     "output_type": "stream",
     "text": [
      "{'cherry', 'mango', 'apple', 'banana', 'pineapple'}\n",
      "{'mango', 'grapes', 'jackfruits', 'apple'}\n",
      "{'chery', 'grapes', 'mango'}\n",
      "\n",
      "common element in multiple set ['mango']\n"
     ]
    }
   ],
   "source": [
    "#51.\tFind the common elements in multiple sets.\n",
    "\n",
    "def common(set1, set2, set3):\n",
    "\n",
    "    set1 = set(set1)\n",
    "    set2 = set(set2)\n",
    "    set3 = set(set3)\n",
    "    return [fruits for fruits in set1 if fruits in set2 and fruits in set3]\n",
    "#driver code\n",
    "set1 = {\"banana\",\"apple\",\"pineapple\",\"cherry\",\"mango\"}\n",
    "set2 = {\"mango\",\"apple\",\"grapes\",\"jackfruits\"}\n",
    "set3 = {\"grapes\",\"mango\",\"chery\"}\n",
    "print(set1)\n",
    "print(set2)\n",
    "print(set3)\n",
    "common = common(set1, set2, set3)\n",
    "print(\"\\ncommon element in multiple set\",common)"
   ]
  },
  {
   "cell_type": "code",
   "execution_count": 127,
   "id": "c96717a8",
   "metadata": {},
   "outputs": [
    {
     "name": "stdout",
     "output_type": "stream",
     "text": [
      "orginal set {'cherry', 'mango', 'apple'}\n",
      "adding multiple elements in one go: {'cherry', 'mango', 'grapes', 'coconut', 'jackfuit', 'apple'}\n"
     ]
    }
   ],
   "source": [
    "#52.\tAdd multiple elements to a set in one go.\n",
    "\n",
    "my_set = {\"apple\",\"mango\",\"cherry\"}\n",
    "print(\"orginal set\",my_set)\n",
    "extra = {\"jackfuit\",\"coconut\",\"grapes\"}\n",
    "my_set.update(extra)\n",
    "print(\"adding multiple elements in one go:\",my_set)"
   ]
  },
  {
   "cell_type": "code",
   "execution_count": 130,
   "id": "c1faa91e",
   "metadata": {},
   "outputs": [
    {
     "name": "stdout",
     "output_type": "stream",
     "text": [
      "original set: {'cherry', 'mango', 'apple'}\n",
      "after removing undefine element\n"
     ]
    },
    {
     "ename": "KeyError",
     "evalue": "'jackfruit'",
     "output_type": "error",
     "traceback": [
      "\u001b[1;31m---------------------------------------------------------------------------\u001b[0m",
      "\u001b[1;31mKeyError\u001b[0m                                  Traceback (most recent call last)",
      "Cell \u001b[1;32mIn[130], line 6\u001b[0m\n\u001b[0;32m      4\u001b[0m \u001b[38;5;28mprint\u001b[39m(\u001b[38;5;124m\"\u001b[39m\u001b[38;5;124moriginal set:\u001b[39m\u001b[38;5;124m\"\u001b[39m,my_set)\n\u001b[0;32m      5\u001b[0m \u001b[38;5;28mprint\u001b[39m(\u001b[38;5;124m\"\u001b[39m\u001b[38;5;124mafter removing undefine element\u001b[39m\u001b[38;5;124m\"\u001b[39m)\n\u001b[1;32m----> 6\u001b[0m my_set\u001b[38;5;241m.\u001b[39mremove(\u001b[38;5;124m\"\u001b[39m\u001b[38;5;124mjackfruit\u001b[39m\u001b[38;5;124m\"\u001b[39m)\n\u001b[0;32m      7\u001b[0m \u001b[38;5;28mprint\u001b[39m(my_set)\n",
      "\u001b[1;31mKeyError\u001b[0m: 'jackfruit'"
     ]
    }
   ],
   "source": [
    "#53.\tRemove a specific element from a set, raising an error if not present.\n",
    "\n",
    "my_set = {\"apple\",\"mango\",\"cherry\"}\n",
    "print(\"original set:\",my_set)\n",
    "my_set.remove(\"jackfruit\")\n",
    "print(my_set)"
   ]
  },
  {
   "cell_type": "code",
   "execution_count": 139,
   "id": "b8f623ae",
   "metadata": {},
   "outputs": [
    {
     "name": "stdout",
     "output_type": "stream",
     "text": [
      "{1, 2, 3, 4}\n",
      "{8, 5, 6, 7}\n",
      "{9, 10, 11, 12, 13}\n",
      "{1, 2}\n",
      "checking set1 and set2 are disjoint: True\n",
      "checking set1 and set4 are disjoint: False\n",
      "checking set3 and set4 are disjoint: True\n"
     ]
    }
   ],
   "source": [
    "#54.\tCheck if two sets are disjoint (have no common elements).\n",
    "set1={1,2,3,4}\n",
    "set2={5,6,7,8}\n",
    "set3={9,10,11,12,13}\n",
    "set4={1,2}\n",
    "print(set1)\n",
    "print(set2)\n",
    "print(set3)\n",
    "print(set4)\n",
    "print(\"checking set1 and set2 are disjoint:\",set1.isdisjoint(set2))\n",
    "print(\"checking set1 and set4 are disjoint:\",set1.isdisjoint(set4))\n",
    "print(\"checking set3 and set4 are disjoint:\",set3.isdisjoint(set4))\n"
   ]
  },
  {
   "cell_type": "markdown",
   "id": "b343dab3",
   "metadata": {},
   "source": [
    "# Mixed Concepts\n"
   ]
  },
  {
   "cell_type": "code",
   "execution_count": 5,
   "id": "12d7dc35",
   "metadata": {},
   "outputs": [
    {
     "name": "stdout",
     "output_type": "stream",
     "text": [
      "[19, 30, 40, 78, 90, 40, 33, 50]\n",
      "second largest element is: 78\n"
     ]
    }
   ],
   "source": [
    "#55.Find the second-largest element in a list.\n",
    "\n",
    "list1=[19,30,40,78,90,40,33,50]\n",
    "print(list1)\n",
    "list2 = list(set(list1))\n",
    "list2.sort()\n",
    "print(\"second largest element is:\",list2[-2])"
   ]
  },
  {
   "cell_type": "code",
   "execution_count": 6,
   "id": "f9cac31f",
   "metadata": {},
   "outputs": [
    {
     "name": "stdout",
     "output_type": "stream",
     "text": [
      "['Apple', 'banana', 'cherry', 'blue berry', 'orange']\n",
      "['pinepple', 'rasberry', 'cherry', 'orange']\n",
      "merged list: ['Apple', 'banana', 'cherry', 'blue berry', 'orange', 'pinepple', 'rasberry', 'cherry', 'orange']\n",
      "removing duplicate from merged list: ['orange', 'rasberry', 'banana', 'pinepple', 'cherry', 'blue berry', 'Apple']\n"
     ]
    }
   ],
   "source": [
    "#56.\tMerge two lists and remove duplicates.\n",
    "fruit_list1 = [\"Apple\",\"banana\",\"cherry\",\"blue berry\",\"orange\"]\n",
    "fruit_list2 = [\"pinepple\",\"rasberry\",\"cherry\",\"orange\"]\n",
    "print(fruit_list1)\n",
    "print(fruit_list2)\n",
    "fruit_list3 = fruit_list1 + fruit_list2\n",
    "print(\"merged list:\",fruit_list3)\n",
    "duplicate = list(set(fruit_list3))\n",
    "print(\"removing duplicate from merged list:\", duplicate)\n",
    "\n"
   ]
  },
  {
   "cell_type": "code",
   "execution_count": 15,
   "id": "20b2b55d",
   "metadata": {},
   "outputs": [
    {
     "name": "stdout",
     "output_type": "stream",
     "text": [
      "{10: 1, 2: 1, 3: 1, 4: 1, 500: 1, 6: 1, 'a': 1, 'd': 1}\n"
     ]
    }
   ],
   "source": [
    "#57.\tCount the frequency of each element in a list using a dictionary.\n",
    "\n",
    "def frequency(list1):\n",
    "    counted = {}\n",
    "    for items in list1:\n",
    "        counted[items] = list1.count(items)\n",
    "    print(counted)\n",
    "\n",
    "#driver code\n",
    "list1 = [10,2,3,4,500,6,\"a\",\"d\"]\n",
    "frequency(list1)\n"
   ]
  },
  {
   "cell_type": "code",
   "execution_count": 10,
   "id": "8af61f00",
   "metadata": {},
   "outputs": [
    {
     "name": "stdout",
     "output_type": "stream",
     "text": [
      "['table', 'chair', 'stool']\n",
      "after removing last element from list: ['table', 'chair']\n",
      "adding beginning of another list:\n",
      "['stool', 'chai', 'coffe', 'milk']\n"
     ]
    }
   ],
   "source": [
    "#58.\tRemove the last element from a list and add it to the beginning of another list.\n",
    "\n",
    "list1 = [\"table\",\"chair\",\"stool\"]\n",
    "new_list = [\"chai\",\"coffe\",\"milk\"]\n",
    "print(list1)\n",
    "list1.remove(\"stool\")\n",
    "print(\"after removing last element from list:\",list1)\n",
    "print(\"adding beginning of another list:\")\n",
    "new_list.insert(0,\"stool\")\n",
    "print(new_list)\n"
   ]
  },
  {
   "cell_type": "code",
   "execution_count": 15,
   "id": "18f18e4f",
   "metadata": {},
   "outputs": [
    {
     "name": "stdout",
     "output_type": "stream",
     "text": [
      "[('akash', 10), ('gaurav', 12), ('anand', 14), ('suraj', 20), ('akhil', 25), ('ashish', 30)]\n",
      "{'akash': 10, 'gaurav': 12, 'anand': 14, 'suraj': 20, 'akhil': 25, 'ashish': 30}\n"
     ]
    }
   ],
   "source": [
    "#59.\tConvert a list of tuples into a dictionary.\n",
    "\n",
    "def Convert(tup, dic):\n",
    "    dic = dict(tup)\n",
    "    return dic\n",
    "     \n",
    "# Driver Code \n",
    "tups = [(\"akash\", 10), (\"gaurav\", 12), (\"anand\", 14),  (\"suraj\", 20), (\"akhil\", 25), (\"ashish\", 30)]\n",
    "print(tups)\n",
    "dictionary = {}\n",
    "print (Convert(tups, dictionary))"
   ]
  },
  {
   "cell_type": "code",
   "execution_count": 23,
   "id": "d9754b11",
   "metadata": {},
   "outputs": [
    {
     "name": "stdout",
     "output_type": "stream",
     "text": [
      "Original list:\n",
      "[[1, 2, 3, 5], [20, 30, 50, 40], [0, 5, 42, 1], [30, 72, 2, 1], [1, 22, 1, 22]]\n",
      "Unique values of the list of lists:\n",
      "[0, 1, 2, 3, 5, 40, 72, 42, 50, 20, 22, 30]\n"
     ]
    }
   ],
   "source": [
    "#60.\tCreate a list of unique elements from a list of lists.\n",
    "\n",
    "def unique(ls):\n",
    "    res = set(x for l in ls for x in l)\n",
    "    return list(res)\n",
    "\n",
    "#driver code\n",
    "lists = [[1,2,3,5], [20,30,50,40], [0,5,42,1], [30,72,2,1], [1,22,1,22]]\n",
    "print(\"Original list:\")\n",
    "print(lists)\n",
    "print(\"Unique values of the list of lists:\")\n",
    "print(unique(lists))\n"
   ]
  },
  {
   "cell_type": "code",
   "execution_count": 34,
   "id": "06b5d3e8",
   "metadata": {},
   "outputs": [
    {
     "name": "stdout",
     "output_type": "stream",
     "text": [
      "dictionary1 {'neil': 1, 'nithin': 3, 'nilesh': 4, 'navya': 3, 'nav': 5}\n",
      "dictionary2 {'neil': 1, 'nilesh': 4, 'nithin': 3}\n",
      "intersection of two list {'neil': 1, 'nithin': 3, 'nilesh': 4}\n"
     ]
    }
   ],
   "source": [
    "#61.\tFind the intersection of two dictionaries (common keys).\n",
    "\n",
    "dict1 = {\"neil\":1,\"nithin\":3,\"nilesh\":4,\"navya\":3,\"nav\":5}\n",
    "dict2 = {\"neil\":1,\"nilesh\":4,\"nithin\":3}\n",
    "print(\"dictionary1\",dict1)\n",
    "print(\"dictionary2\",dict2)\n",
    "dict3 = {x:dict1[x]for x in dict1 if x in dict2}\n",
    "print(\"intersection of two list\",dict3)\n"
   ]
  },
  {
   "cell_type": "code",
   "execution_count": 38,
   "id": "ae98ccbe",
   "metadata": {},
   "outputs": [
    {
     "name": "stdout",
     "output_type": "stream",
     "text": [
      "{1, 2, 3, 4, 5}\n",
      "{3, 4, 6, 7, 9}\n",
      "symmetric difference between two sets {1, 2, 5, 6, 7, 9}\n"
     ]
    }
   ],
   "source": [
    "#62.\tFind the symmetric difference between two sets (elements in either set, but not in both).\n",
    "\n",
    "set_A = {1, 2, 3, 4, 5}\n",
    "set_B = {6, 7, 3, 9, 4}\n",
    "print(set_A)\n",
    "print(set_B)\n",
    "print(\"symmetric difference between two sets\",set_A.symmetric_difference(set_B))\n"
   ]
  },
  {
   "cell_type": "code",
   "execution_count": 45,
   "id": "2f3859a9",
   "metadata": {},
   "outputs": [
    {
     "name": "stdout",
     "output_type": "stream",
     "text": [
      "{'animal': 1, 'avinash': 2, 'sarfarosh': 3, 'zoom': 4}\n"
     ]
    }
   ],
   "source": [
    "#63.\tSort a list of dictionaries based on a specific key.\n",
    "\n",
    "my_dict = {\"avinash\": 2, \"animal\": 1, \"sarfarosh\": 3,\"zoom\":4}\n",
    "sorted_dict = dict(sorted(my_dict.items()))\n",
    "\n",
    "print(sorted_dict)\n"
   ]
  },
  {
   "cell_type": "code",
   "execution_count": 46,
   "id": "886b9149",
   "metadata": {},
   "outputs": [
    {
     "name": "stdout",
     "output_type": "stream",
     "text": [
      "dict1 and dic2 are not same\n"
     ]
    }
   ],
   "source": [
    "#64.\tCheck if two dictionaries have the same keys but different values.\n",
    "\n",
    "\n",
    "dic1 = {\"raj\":4,\"ramesh\":5,\"ram\":6}\n",
    "dic2 = {\"raj\":4,\"ramesh\":2,\"ram\":4}\n",
    "\n",
    "if(dic1 == dic2):\n",
    "    print(\"dict1 and dic2 are same\")\n",
    "else:\n",
    "    print(\"dict1 and dic2 are not same\")\n"
   ]
  }
 ],
 "metadata": {
  "kernelspec": {
   "display_name": "Python 3 (ipykernel)",
   "language": "python",
   "name": "python3"
  },
  "language_info": {
   "codemirror_mode": {
    "name": "ipython",
    "version": 3
   },
   "file_extension": ".py",
   "mimetype": "text/x-python",
   "name": "python",
   "nbconvert_exporter": "python",
   "pygments_lexer": "ipython3",
   "version": "3.11.4"
  }
 },
 "nbformat": 4,
 "nbformat_minor": 5
}
